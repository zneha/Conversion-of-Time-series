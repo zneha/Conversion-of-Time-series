{
 "cells": [
  {
   "cell_type": "code",
   "execution_count": 1,
   "metadata": {},
   "outputs": [
    {
     "ename": "SyntaxError",
     "evalue": "invalid syntax (<ipython-input-1-0e8a34aa8696>, line 40)",
     "output_type": "error",
     "traceback": [
      "\u001b[1;36m  File \u001b[1;32m\"<ipython-input-1-0e8a34aa8696>\"\u001b[1;36m, line \u001b[1;32m40\u001b[0m\n\u001b[1;33m    if len(time_series) ~=0:\u001b[0m\n\u001b[1;37m                        ^\u001b[0m\n\u001b[1;31mSyntaxError\u001b[0m\u001b[1;31m:\u001b[0m invalid syntax\n"
     ]
    }
   ],
   "source": [
    "#  all imports\n",
    "from termcolor import colored\n",
    "from glob import glob\n",
    "import os\n",
    "import pprint\n",
    "pp = pprint.PrettyPrinter(indent=4)\n",
    "from pylab import *\n",
    "from pandas import Series\n",
    "from sklearn.preprocessing import MinMaxScaler\n",
    "import matplotlib.pyplot as plt\n",
    "import scipy.io\n",
    "from tqdm import tqdm_notebook as tqdm\n",
    "from time import sleep\n",
    "import warnings\n",
    "warnings.filterwarnings('ignore')\n",
    "# from Pbar import Pbar\n",
    "\n",
    "#  import all data\n",
    "output_loc = r\"Z:\\User Data\\Neha reddy\\ECG\\Prelim AIM\\Results\\Machine Learning\\DataConvert\\Good data images Exceptions - W1s\"\n",
    "filepath = r\"Z:\\User Data\\Neha reddy\\ECG\\Prelim AIM\\Data\\Machine Learning\\DataConvert\\Exceptions Noisy\"\n",
    "files = glob(filepath+'*/*.mat')\n",
    "\n",
    "print(colored(\"len_of_files:\",'red'), len(files))\n",
    "\n",
    "# since 1s is equal to 256 samples here\n",
    "time_series_window = 256\n",
    "reshape_size = int(sqrt(time_series_window))\n",
    "print(colored(\"reshape size\",'red'), reshape_size)\n",
    "scaler = MinMaxScaler(feature_range=(0, 255))\n",
    "\n",
    "for file in files:\n",
    "    filepath = '\\\\'.join(file.split('\\\\')[:])\n",
    "    filename = '\\\\'.join(file.split('\\\\')[-1:])\n",
    "    filename = '\\\\'.join(filename.split('.')[:-1])\n",
    "    print(colored(\"file_proccesing:\",'blue'), filename)\n",
    "\n",
    "    mats = scipy.io.loadmat(filepath)\n",
    "    data = mats['data'][0]        \n",
    "    time_series = data['noisy_data'][0][0]\n",
    "    if len(time_series) ==0:\n",
    "        print('All data was good data')\n",
    "    else:\n",
    "        for i in range(0,int(len(time_series)/time_series_window)+1):\n",
    "            start11 = (i)*time_series_window\n",
    "            end11 = (i+1)*time_series_window\n",
    "            n = time_series_window - len(time_series[start11:end11])\n",
    "            if n !=0:\n",
    "                start1 = (i*time_series_window)\n",
    "                end1 = (i+1)*time_series_window\n",
    "                nn = time_series_window - len(time_series[start1:end1])\n",
    "                time_series_seg = np.pad(time_series[start1:len(time_series)], (0, nn), 'constant')  \n",
    "                time_series_seg_reshaped = time_series_seg.reshape(reshape_size,reshape_size)\n",
    "            else:                \n",
    "                start1 = (i)*time_series_window\n",
    "                end1 = (i+1)*time_series_window\n",
    "                time_series_seg = time_series[start1:end1]\n",
    "                time_series_seg_reshaped = time_series_seg.reshape(reshape_size,reshape_size)\n",
    "\n",
    "            scaler = scaler.fit(time_series_seg_reshaped)\n",
    "            normalized = scaler.transform(time_series_seg_reshaped)\n",
    "            saving_to = output_loc + \"\\\\\" +str(filename) + str(i) + \".png\"\n",
    "            scipy.misc.imsave(saving_to, normalized)\n",
    "#             plt.imshow(normalized, cmap='gray')\n"
   ]
  },
  {
   "cell_type": "code",
   "execution_count": null,
   "metadata": {},
   "outputs": [],
   "source": []
  }
 ],
 "metadata": {
  "kernelspec": {
   "display_name": "Python 3",
   "language": "python",
   "name": "python3"
  },
  "language_info": {
   "codemirror_mode": {
    "name": "ipython",
    "version": 3
   },
   "file_extension": ".py",
   "mimetype": "text/x-python",
   "name": "python",
   "nbconvert_exporter": "python",
   "pygments_lexer": "ipython3",
   "version": "3.7.3"
  }
 },
 "nbformat": 4,
 "nbformat_minor": 2
}
