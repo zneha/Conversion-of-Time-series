{
 "cells": [
  {
   "cell_type": "code",
   "execution_count": 6,
   "metadata": {},
   "outputs": [
    {
     "name": "stdout",
     "output_type": "stream",
     "text": [
      "\u001b[31mlen_of_files:\u001b[0m 19\n",
      "\u001b[34mfile_proccesing:\u001b[0m 3010457_20111109_EDF_good_data\n"
     ]
    },
    {
     "name": "stderr",
     "output_type": "stream",
     "text": [
      "C:\\ProgramData\\Anaconda3\\lib\\site-packages\\ipykernel_launcher.py:62: DeprecationWarning: `imsave` is deprecated!\n",
      "`imsave` is deprecated in SciPy 1.0.0, and will be removed in 1.2.0.\n",
      "Use ``imageio.imwrite`` instead.\n"
     ]
    },
    {
     "name": "stdout",
     "output_type": "stream",
     "text": [
      "\u001b[34mfile_proccesing:\u001b[0m 3010511_20120201_EDF_good_data\n",
      "\u001b[34mfile_proccesing:\u001b[0m 3010660_20120322_EDF_good_data\n",
      "\u001b[34mfile_proccesing:\u001b[0m 3011429_20120318_EDF_good_data\n",
      "\u001b[34mfile_proccesing:\u001b[0m 3011437_20110606_EDF_good_data\n",
      "\u001b[34mfile_proccesing:\u001b[0m 3011666_20110519_EDF_good_data\n",
      "\u001b[34mfile_proccesing:\u001b[0m 3011798_20120209_EDF_good_data\n",
      "\u001b[34mfile_proccesing:\u001b[0m 3011810_20120227_EDF_good_data\n"
     ]
    },
    {
     "name": "stderr",
     "output_type": "stream",
     "text": [
      "C:\\ProgramData\\Anaconda3\\lib\\site-packages\\ipykernel_launcher.py:52: RuntimeWarning: invalid value encountered in true_divide\n",
      "C:\\ProgramData\\Anaconda3\\lib\\site-packages\\ipykernel_launcher.py:54: RuntimeWarning: invalid value encountered in greater_equal\n",
      "C:\\ProgramData\\Anaconda3\\lib\\site-packages\\ipykernel_launcher.py:55: RuntimeWarning: invalid value encountered in less_equal\n"
     ]
    },
    {
     "name": "stdout",
     "output_type": "stream",
     "text": [
      "\u001b[34mfile_proccesing:\u001b[0m 3011860_20120418_EDF_good_data\n",
      "\u001b[34mfile_proccesing:\u001b[0m 3012344_20120215_EDF_good_data\n",
      "\u001b[34mfile_proccesing:\u001b[0m 3012450_20120405_EDF_good_data\n",
      "\u001b[34mfile_proccesing:\u001b[0m 3012549_20120430_EDF_good_data\n",
      "\u001b[34mfile_proccesing:\u001b[0m 3012859_20120321_EDF_good_data\n",
      "\u001b[34mfile_proccesing:\u001b[0m 3012972_20120508_EDF_good_data\n",
      "\u001b[34mfile_proccesing:\u001b[0m 3013316_20121002_EDF_good_data\n",
      "\u001b[34mfile_proccesing:\u001b[0m 3018164_20120124_EDF_good_data\n",
      "\u001b[34mfile_proccesing:\u001b[0m 3018431_20110228_EDF_good_data\n",
      "\u001b[34mfile_proccesing:\u001b[0m 3018598_20120220_EDF_good_data\n",
      "\u001b[34mfile_proccesing:\u001b[0m 4019180_20100724_EDF_good_data\n"
     ]
    }
   ],
   "source": [
    "#  all imports\n",
    "from termcolor import colored\n",
    "from glob import glob\n",
    "import os\n",
    "from pylab import *\n",
    "from pandas import Series\n",
    "import matplotlib\n",
    "import matplotlib.pyplot as plt\n",
    "import math\n",
    "import numpy as np\n",
    "import scipy.io\n",
    "from tools import create_time_serie, cos_sum, tabulate\n",
    "\n",
    "\n",
    "#  import all data\n",
    "output_loc = r\"Z:\\User Data\\Neha reddy\\ECG\\Prelim AIM\\Results\\Machine Learning\\DataConvert\\Good data images Exceptions - W1sGAF\"\n",
    "filepath = r\"Z:\\User Data\\Neha reddy\\ECG\\Prelim AIM\\Data\\Machine Learning\\DataConvert\\Exceptions Good\"\n",
    "files = glob(filepath+'*/*.mat')\n",
    "print(colored(\"len_of_files:\",'red'), len(files))\n",
    "\n",
    "\n",
    "time_series_window = 256\n",
    "\n",
    "for file in files:\n",
    "    filepath = '\\\\'.join(file.split('\\\\')[:])\n",
    "    filename = '\\\\'.join(file.split('\\\\')[-1:])\n",
    "    filename = '\\\\'.join(filename.split('.')[:-1])\n",
    "    print(colored(\"file_proccesing:\",'blue'), filename)\n",
    "\n",
    "    mats = scipy.io.loadmat(filepath)\n",
    "    data = mats['data'][0]\n",
    "    serie = data['good_data'][0][0]\n",
    "    if len(serie)==0:\n",
    "        print('All data is good data')\n",
    "    else:\n",
    "        for i in range(0,int(len(serie)/time_series_window)+1):\n",
    "            start11 = (i)*time_series_window\n",
    "            end11 = (i+1)*time_series_window\n",
    "            n = time_series_window - len(serie[start11:end11])\n",
    "            if n !=0:\n",
    "                start1 = (i*time_series_window)\n",
    "                end1 = (i+1)*time_series_window\n",
    "                nn = time_series_window - len(serie[start1:end1])\n",
    "                time_series_seg = np.pad(serie[start1:len(serie)], (0, nn), 'constant')\n",
    "            else:\n",
    "                start1 = (i)*time_series_window\n",
    "                end1 = (i+1)*time_series_window\n",
    "                time_series_seg = serie[start1:end1]\n",
    "              \n",
    "            min_ = np.amin(time_series_seg)\n",
    "            max_ = np.amax(time_series_seg)\n",
    "            scaled_time_series_seg = (2*time_series_seg - max_ - min_)/(max_ - min_)\n",
    "\n",
    "            scaled_time_series_seg = np.where(scaled_time_series_seg >= 1., 1., scaled_time_series_seg)\n",
    "            scaled_time_series_seg = np.where(scaled_time_series_seg <= -1., -1., scaled_time_series_seg)\n",
    "            \n",
    "            phi = np.arccos(scaled_time_series_seg)\n",
    "            r = np.linspace(0, 1, len(scaled_time_series_seg))\n",
    "            gaf = tabulate(phi, phi, cos_sum)\n",
    "\n",
    "            saving_to = output_loc + \"\\\\\" +str(filename) + str(i) + \".png\"\n",
    "            scipy.misc.imsave(saving_to, gaf)\n",
    "\n",
    "#             fig = plt.figure(figsize=(9, 6))\n",
    "#             font = {\n",
    "#                 'family': 'serif',\n",
    "#                 'color':  'darkblue',\n",
    "#                 'weight': 'normal',\n",
    "#                 'size': 16,\n",
    "#                 }\n",
    "#             size = 0.33\n",
    "#             alignement = 0.1\n",
    "#             ax_patchwork = fig.add_axes([alignement + 1.8*size, 0.4, size, size])\n",
    "#             ax_patchwork.clear()\n",
    "#             ax_patchwork.matshow(gaf)\n",
    "#             ax_patchwork.set_title(\"Gramian Angular Field\", fontdict=font)\n"
   ]
  },
  {
   "cell_type": "code",
   "execution_count": null,
   "metadata": {},
   "outputs": [],
   "source": []
  }
 ],
 "metadata": {
  "kernelspec": {
   "display_name": "Python 3",
   "language": "python",
   "name": "python3"
  },
  "language_info": {
   "codemirror_mode": {
    "name": "ipython",
    "version": 3
   },
   "file_extension": ".py",
   "mimetype": "text/x-python",
   "name": "python",
   "nbconvert_exporter": "python",
   "pygments_lexer": "ipython3",
   "version": "3.7.3"
  }
 },
 "nbformat": 4,
 "nbformat_minor": 2
}
